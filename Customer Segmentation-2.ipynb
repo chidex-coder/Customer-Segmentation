{
 "cells": [
  {
   "cell_type": "markdown",
   "id": "1e8893e7",
   "metadata": {},
   "source": [
    "# What Is Customer Segmentation?\n",
    "\n",
    "Customer segmentation is an excellent way to gain insight into the market landscape. Customer segmentation is all about grouping customers into segments based on shared qualities or characteristics. Customer segmentation is also called ‘clustering’. The tools and techniques used to find the customer segments are called clustering algorithms. These algorithms helps to create segments, and the end result you see: what segments are, and how can you use this information to better your customer service."
   ]
  },
  {
   "cell_type": "markdown",
   "id": "9090b2a2",
   "metadata": {},
   "source": [
    "# Some Reasons Why Customer Segmentation is used to Deliver a Better Customer Experience\n",
    "\n",
    "**Drive-Up Retention Rates:**\n",
    "A typical American business will lose 15% of its customers every year. However, you may also have heard that 80% of your future profits will come for just 20% of your existing customer base. Customer retention is an essential part of any successful business and failing to keep your customers can result in a huge loss of earnings. It’s been estimated that companies lose more than $136 billion every year just from consumers switching to another brand. So, how can you use customer segmentation to drive up retention rates?\n",
    "\n",
    "By segmenting your customers, it’s easier to keep them happy. You know which marketing tactics are more likely to work with each segment. This means you are providing higher quality suggestions that are more likely to be well received. You can also perform market research with each of your segments to make actionable goals about which direction your company should go. Do you have a lot of customers aged 18-24? Do they prefer dealing with customer service on the phone? Or do they prefer Live Chat? Which device are they using to access your website? Does your website perform well on that device? These are all questions you can consider when developing your customer retention strategies.\n",
    "\n",
    "**Make Yourself Visible During Key Times:**\n",
    "If you have customers who celebrate a particular holiday, for example, Eid, Hanukkah, Christmas, or Diwali, you may want to tweak your marketing to reach out to these customers. This has the effect of many customers feel appreciated. The same is also true for special occasions. Your customer may have a birthday or wedding coming up and you can tailor your communications to suggest purchases they may benefit from.\n",
    "\n",
    "**Offer Well-Timed Discounts To Drive Sales:**\n",
    "If you have identified a cluster of customers who have recently abandoned their shopping cart, you may be able to convince them to purchase by offering them a discount on the products in their cart. Interestingly, women are slightly more likely than men to pay attention to discounts and promotions. You may want to offer more aggressive discounts to your female customers.\n",
    "\n",
    "**Bring Old Customers Back:**\n",
    "According to one report, 30% of small business owners estimate that 15-20% of all first-time customers don’t return. Sometimes the customer has just forgotten about your business and it’s your job to attract them back. By segmenting your customers, you can easily identify one-time customers and design a strategy that will bring them back. You may be able to offer them a large discount or a free item if they buy a product over a certain price.\n",
    "\n",
    "**A More Personalized Experience:**\n",
    "By segmenting your customers, you identify trends with each group and this allows you to deliver a more personalized message to its members. For example, if you identify one segment as Students, you may want to send them a marketing email around Finals and offer them something to ‘de-stress’, help them study, or whatever else. The point is that you’re connecting with them on a personal level.\n",
    "\n",
    "**Beat The Competition:**\n",
    "Understanding your customers allows you to provide a better customer experience which will keep consumers coming back to you. Companies who don’t segment their customers will find themselves falling behind as you race ahead. One study found that 65%-75% of new products fail to meet their revenue targets. A key reason that this happens is that the business has failed to understand what their customers really want and have gone for a one-size-fits-all approach."
   ]
  },
  {
   "cell_type": "markdown",
   "id": "8c55917e",
   "metadata": {},
   "source": [
    "# Customer Segmentation Using K-Means clustering algorithm"
   ]
  },
  {
   "cell_type": "markdown",
   "id": "07bd9904",
   "metadata": {},
   "source": [
    "Assuming an e-commerce company selling some products wants to know how well the selling performance of the products are,the sales data can be analyzed and the customers segmented based on their buying behavior on the market. Noting that the data is really huge, and can not be analyzed manually. Machine learning algorithms will be implored in computing the data."
   ]
  },
  {
   "cell_type": "markdown",
   "id": "b7755bbb",
   "metadata": {},
   "source": [
    "### Steps\n",
    "\n",
    "- Gathering the data\n",
    "- Creating Recency, Frequency, and MonetaryValue (RFM) table\n",
    "- Managing skewness and scaling each variable\n",
    "- Exploring the data\n",
    "- Clustering the data\n",
    "- Interpreting the result"
   ]
  },
  {
   "cell_type": "markdown",
   "id": "739b17ab",
   "metadata": {},
   "source": [
    "## Data Analysis\n",
    "\n",
    "### Data Gathering\n",
    "\n",
    "In this step, the data was gotten from UCI Machine Learning called Online Retail dataset. The dataset itself is a transactional data that contains transactions from December 1st 2010 until December 9th 2011 for a UK-based online retail. Each row represents the transaction that occurs. It includes the product name, quantity, price, and other columns that represents ID."
   ]
  },
  {
   "cell_type": "code",
   "execution_count": 94,
   "id": "db1cecb4",
   "metadata": {},
   "outputs": [],
   "source": [
    "# Import The Libraries\n",
    "# ! pip install xlrd\n",
    "\n",
    "import pandas as pd\n",
    "import matplotlib.pyplot as plt\n",
    "import numpy as np\n",
    "\n",
    "# Import The Dataset\n",
    "df = pd.read_excel('Online_Retail.xlsx')"
   ]
  },
  {
   "cell_type": "markdown",
   "id": "abf7c955",
   "metadata": {},
   "source": [
    "###### Full Size of Dataset"
   ]
  },
  {
   "cell_type": "code",
   "execution_count": 95,
   "id": "accb7c48",
   "metadata": {},
   "outputs": [
    {
     "data": {
      "text/plain": [
       "(541909, 8)"
      ]
     },
     "execution_count": 95,
     "metadata": {},
     "output_type": "execute_result"
    }
   ],
   "source": [
    "df.shape"
   ]
  },
  {
   "cell_type": "markdown",
   "id": "0ea49263",
   "metadata": {},
   "source": [
    "For this case, not all the rows will be used. Instead, a sample will be made from 10,000 rows from the dataset, and assumed as the whole transactions that the customers perform.\n",
    "The code will look like this,"
   ]
  },
  {
   "cell_type": "code",
   "execution_count": 134,
   "id": "24f109a3",
   "metadata": {},
   "outputs": [
    {
     "data": {
      "text/html": [
       "<div>\n",
       "<style scoped>\n",
       "    .dataframe tbody tr th:only-of-type {\n",
       "        vertical-align: middle;\n",
       "    }\n",
       "\n",
       "    .dataframe tbody tr th {\n",
       "        vertical-align: top;\n",
       "    }\n",
       "\n",
       "    .dataframe thead th {\n",
       "        text-align: right;\n",
       "    }\n",
       "</style>\n",
       "<table border=\"1\" class=\"dataframe\">\n",
       "  <thead>\n",
       "    <tr style=\"text-align: right;\">\n",
       "      <th></th>\n",
       "      <th>InvoiceNo</th>\n",
       "      <th>StockCode</th>\n",
       "      <th>Description</th>\n",
       "      <th>Quantity</th>\n",
       "      <th>InvoiceDate</th>\n",
       "      <th>UnitPrice</th>\n",
       "      <th>CustomerID</th>\n",
       "      <th>Country</th>\n",
       "    </tr>\n",
       "  </thead>\n",
       "  <tbody>\n",
       "    <tr>\n",
       "      <th>47912</th>\n",
       "      <td>540456</td>\n",
       "      <td>48185</td>\n",
       "      <td>DOORMAT FAIRY CAKE</td>\n",
       "      <td>2</td>\n",
       "      <td>2011-01-07 12:14:00</td>\n",
       "      <td>7.95</td>\n",
       "      <td>13534.0</td>\n",
       "      <td>United Kingdom</td>\n",
       "    </tr>\n",
       "    <tr>\n",
       "      <th>342630</th>\n",
       "      <td>566891</td>\n",
       "      <td>23013</td>\n",
       "      <td>GLASS APOTHECARY BOTTLE TONIC</td>\n",
       "      <td>4</td>\n",
       "      <td>2011-09-15 13:51:00</td>\n",
       "      <td>3.95</td>\n",
       "      <td>14894.0</td>\n",
       "      <td>United Kingdom</td>\n",
       "    </tr>\n",
       "    <tr>\n",
       "      <th>288183</th>\n",
       "      <td>C562139</td>\n",
       "      <td>21313</td>\n",
       "      <td>GLASS HEART T-LIGHT HOLDER</td>\n",
       "      <td>-4</td>\n",
       "      <td>2011-08-03 10:10:00</td>\n",
       "      <td>0.85</td>\n",
       "      <td>12921.0</td>\n",
       "      <td>United Kingdom</td>\n",
       "    </tr>\n",
       "    <tr>\n",
       "      <th>325368</th>\n",
       "      <td>565438</td>\n",
       "      <td>22382</td>\n",
       "      <td>LUNCH BAG SPACEBOY DESIGN</td>\n",
       "      <td>4</td>\n",
       "      <td>2011-09-04 13:56:00</td>\n",
       "      <td>1.65</td>\n",
       "      <td>17229.0</td>\n",
       "      <td>United Kingdom</td>\n",
       "    </tr>\n",
       "    <tr>\n",
       "      <th>331450</th>\n",
       "      <td>566016</td>\n",
       "      <td>21212</td>\n",
       "      <td>PACK OF 72 RETROSPOT CAKE CASES</td>\n",
       "      <td>24</td>\n",
       "      <td>2011-09-08 12:20:00</td>\n",
       "      <td>0.55</td>\n",
       "      <td>15144.0</td>\n",
       "      <td>United Kingdom</td>\n",
       "    </tr>\n",
       "    <tr>\n",
       "      <th>...</th>\n",
       "      <td>...</td>\n",
       "      <td>...</td>\n",
       "      <td>...</td>\n",
       "      <td>...</td>\n",
       "      <td>...</td>\n",
       "      <td>...</td>\n",
       "      <td>...</td>\n",
       "      <td>...</td>\n",
       "    </tr>\n",
       "    <tr>\n",
       "      <th>123</th>\n",
       "      <td>536381</td>\n",
       "      <td>22083</td>\n",
       "      <td>PAPER CHAIN KIT RETROSPOT</td>\n",
       "      <td>1</td>\n",
       "      <td>2010-12-01 09:41:00</td>\n",
       "      <td>2.95</td>\n",
       "      <td>15311.0</td>\n",
       "      <td>United Kingdom</td>\n",
       "    </tr>\n",
       "    <tr>\n",
       "      <th>449041</th>\n",
       "      <td>C575082</td>\n",
       "      <td>21843</td>\n",
       "      <td>RED RETROSPOT CAKE STAND</td>\n",
       "      <td>-4</td>\n",
       "      <td>2011-11-08 13:30:00</td>\n",
       "      <td>10.95</td>\n",
       "      <td>12613.0</td>\n",
       "      <td>Germany</td>\n",
       "    </tr>\n",
       "    <tr>\n",
       "      <th>425967</th>\n",
       "      <td>573340</td>\n",
       "      <td>21733</td>\n",
       "      <td>RED HANGING HEART T-LIGHT HOLDER</td>\n",
       "      <td>2</td>\n",
       "      <td>2011-10-30 11:55:00</td>\n",
       "      <td>2.95</td>\n",
       "      <td>14159.0</td>\n",
       "      <td>United Kingdom</td>\n",
       "    </tr>\n",
       "    <tr>\n",
       "      <th>70029</th>\n",
       "      <td>541997</td>\n",
       "      <td>22919</td>\n",
       "      <td>HERB MARKER MINT</td>\n",
       "      <td>5</td>\n",
       "      <td>2011-01-25 10:38:00</td>\n",
       "      <td>0.65</td>\n",
       "      <td>18077.0</td>\n",
       "      <td>United Kingdom</td>\n",
       "    </tr>\n",
       "    <tr>\n",
       "      <th>282657</th>\n",
       "      <td>561653</td>\n",
       "      <td>20992</td>\n",
       "      <td>JAZZ HEARTS PURSE NOTEBOOK</td>\n",
       "      <td>24</td>\n",
       "      <td>2011-07-28 15:55:00</td>\n",
       "      <td>0.39</td>\n",
       "      <td>14002.0</td>\n",
       "      <td>United Kingdom</td>\n",
       "    </tr>\n",
       "  </tbody>\n",
       "</table>\n",
       "<p>10000 rows × 8 columns</p>\n",
       "</div>"
      ],
      "text/plain": [
       "       InvoiceNo StockCode                       Description  Quantity  \\\n",
       "47912     540456     48185                DOORMAT FAIRY CAKE         2   \n",
       "342630    566891     23013     GLASS APOTHECARY BOTTLE TONIC         4   \n",
       "288183   C562139     21313       GLASS HEART T-LIGHT HOLDER         -4   \n",
       "325368    565438     22382        LUNCH BAG SPACEBOY DESIGN          4   \n",
       "331450    566016     21212   PACK OF 72 RETROSPOT CAKE CASES        24   \n",
       "...          ...       ...                               ...       ...   \n",
       "123       536381     22083         PAPER CHAIN KIT RETROSPOT         1   \n",
       "449041   C575082     21843          RED RETROSPOT CAKE STAND        -4   \n",
       "425967    573340     21733  RED HANGING HEART T-LIGHT HOLDER         2   \n",
       "70029     541997     22919                  HERB MARKER MINT         5   \n",
       "282657    561653     20992        JAZZ HEARTS PURSE NOTEBOOK        24   \n",
       "\n",
       "               InvoiceDate  UnitPrice  CustomerID         Country  \n",
       "47912  2011-01-07 12:14:00       7.95     13534.0  United Kingdom  \n",
       "342630 2011-09-15 13:51:00       3.95     14894.0  United Kingdom  \n",
       "288183 2011-08-03 10:10:00       0.85     12921.0  United Kingdom  \n",
       "325368 2011-09-04 13:56:00       1.65     17229.0  United Kingdom  \n",
       "331450 2011-09-08 12:20:00       0.55     15144.0  United Kingdom  \n",
       "...                    ...        ...         ...             ...  \n",
       "123    2010-12-01 09:41:00       2.95     15311.0  United Kingdom  \n",
       "449041 2011-11-08 13:30:00      10.95     12613.0         Germany  \n",
       "425967 2011-10-30 11:55:00       2.95     14159.0  United Kingdom  \n",
       "70029  2011-01-25 10:38:00       0.65     18077.0  United Kingdom  \n",
       "282657 2011-07-28 15:55:00       0.39     14002.0  United Kingdom  \n",
       "\n",
       "[10000 rows x 8 columns]"
      ]
     },
     "execution_count": 134,
     "metadata": {},
     "output_type": "execute_result"
    }
   ],
   "source": [
    "# Sample the dataset\n",
    "df = df[df['CustomerID'].notna()]\n",
    "df_new = df.sample(10000, random_state = 42)\n",
    "df_new"
   ]
  },
  {
   "cell_type": "code",
   "execution_count": 135,
   "id": "66f38ada",
   "metadata": {},
   "outputs": [
    {
     "data": {
      "text/plain": [
       "(10000, 8)"
      ]
     },
     "execution_count": 135,
     "metadata": {},
     "output_type": "execute_result"
    }
   ],
   "source": [
    "df_new.shape"
   ]
  },
  {
   "cell_type": "code",
   "execution_count": 136,
   "id": "c43af81e",
   "metadata": {
    "scrolled": true
   },
   "outputs": [
    {
     "data": {
      "text/html": [
       "<div>\n",
       "<style scoped>\n",
       "    .dataframe tbody tr th:only-of-type {\n",
       "        vertical-align: middle;\n",
       "    }\n",
       "\n",
       "    .dataframe tbody tr th {\n",
       "        vertical-align: top;\n",
       "    }\n",
       "\n",
       "    .dataframe thead th {\n",
       "        text-align: right;\n",
       "    }\n",
       "</style>\n",
       "<table border=\"1\" class=\"dataframe\">\n",
       "  <thead>\n",
       "    <tr style=\"text-align: right;\">\n",
       "      <th></th>\n",
       "      <th>InvoiceNo</th>\n",
       "      <th>StockCode</th>\n",
       "      <th>Description</th>\n",
       "      <th>Quantity</th>\n",
       "      <th>InvoiceDate</th>\n",
       "      <th>UnitPrice</th>\n",
       "      <th>CustomerID</th>\n",
       "      <th>Country</th>\n",
       "    </tr>\n",
       "  </thead>\n",
       "  <tbody>\n",
       "    <tr>\n",
       "      <th>47912</th>\n",
       "      <td>540456</td>\n",
       "      <td>48185</td>\n",
       "      <td>DOORMAT FAIRY CAKE</td>\n",
       "      <td>2</td>\n",
       "      <td>2011-01-07 12:14:00</td>\n",
       "      <td>7.95</td>\n",
       "      <td>13534.0</td>\n",
       "      <td>United Kingdom</td>\n",
       "    </tr>\n",
       "    <tr>\n",
       "      <th>342630</th>\n",
       "      <td>566891</td>\n",
       "      <td>23013</td>\n",
       "      <td>GLASS APOTHECARY BOTTLE TONIC</td>\n",
       "      <td>4</td>\n",
       "      <td>2011-09-15 13:51:00</td>\n",
       "      <td>3.95</td>\n",
       "      <td>14894.0</td>\n",
       "      <td>United Kingdom</td>\n",
       "    </tr>\n",
       "    <tr>\n",
       "      <th>288183</th>\n",
       "      <td>C562139</td>\n",
       "      <td>21313</td>\n",
       "      <td>GLASS HEART T-LIGHT HOLDER</td>\n",
       "      <td>-4</td>\n",
       "      <td>2011-08-03 10:10:00</td>\n",
       "      <td>0.85</td>\n",
       "      <td>12921.0</td>\n",
       "      <td>United Kingdom</td>\n",
       "    </tr>\n",
       "    <tr>\n",
       "      <th>325368</th>\n",
       "      <td>565438</td>\n",
       "      <td>22382</td>\n",
       "      <td>LUNCH BAG SPACEBOY DESIGN</td>\n",
       "      <td>4</td>\n",
       "      <td>2011-09-04 13:56:00</td>\n",
       "      <td>1.65</td>\n",
       "      <td>17229.0</td>\n",
       "      <td>United Kingdom</td>\n",
       "    </tr>\n",
       "    <tr>\n",
       "      <th>331450</th>\n",
       "      <td>566016</td>\n",
       "      <td>21212</td>\n",
       "      <td>PACK OF 72 RETROSPOT CAKE CASES</td>\n",
       "      <td>24</td>\n",
       "      <td>2011-09-08 12:20:00</td>\n",
       "      <td>0.55</td>\n",
       "      <td>15144.0</td>\n",
       "      <td>United Kingdom</td>\n",
       "    </tr>\n",
       "  </tbody>\n",
       "</table>\n",
       "</div>"
      ],
      "text/plain": [
       "       InvoiceNo StockCode                      Description  Quantity  \\\n",
       "47912     540456     48185               DOORMAT FAIRY CAKE         2   \n",
       "342630    566891     23013    GLASS APOTHECARY BOTTLE TONIC         4   \n",
       "288183   C562139     21313      GLASS HEART T-LIGHT HOLDER         -4   \n",
       "325368    565438     22382       LUNCH BAG SPACEBOY DESIGN          4   \n",
       "331450    566016     21212  PACK OF 72 RETROSPOT CAKE CASES        24   \n",
       "\n",
       "               InvoiceDate  UnitPrice  CustomerID         Country  \n",
       "47912  2011-01-07 12:14:00       7.95     13534.0  United Kingdom  \n",
       "342630 2011-09-15 13:51:00       3.95     14894.0  United Kingdom  \n",
       "288183 2011-08-03 10:10:00       0.85     12921.0  United Kingdom  \n",
       "325368 2011-09-04 13:56:00       1.65     17229.0  United Kingdom  \n",
       "331450 2011-09-08 12:20:00       0.55     15144.0  United Kingdom  "
      ]
     },
     "execution_count": 136,
     "metadata": {},
     "output_type": "execute_result"
    }
   ],
   "source": [
    "df_new.head()"
   ]
  },
  {
   "cell_type": "markdown",
   "id": "2b06ddf2",
   "metadata": {},
   "source": [
    "#### Check for missing values"
   ]
  },
  {
   "cell_type": "code",
   "execution_count": 169,
   "id": "38b23315",
   "metadata": {},
   "outputs": [
    {
     "data": {
      "text/plain": [
       "InvoiceNo      False\n",
       "StockCode      False\n",
       "Description    False\n",
       "Quantity       False\n",
       "InvoiceDate    False\n",
       "UnitPrice      False\n",
       "CustomerID     False\n",
       "Country        False\n",
       "dtype: bool"
      ]
     },
     "execution_count": 169,
     "metadata": {},
     "output_type": "execute_result"
    }
   ],
   "source": [
    "df.isna().all()"
   ]
  },
  {
   "cell_type": "markdown",
   "id": "f52154ae",
   "metadata": {},
   "source": [
    "# Data Preprocessing\n",
    "\n",
    "## Creating The RFM Table\n",
    "\n",
    "After sampling the data, we will make the data easier to conduct an analysis.\n",
    "\n",
    "To segment customers, there are some metrics that can be used, such as when recent the customer buys the product, how frequent the customers buy the product, and how much the customers pays for the product. It can be called RFM segmentation.\n",
    "\n",
    "To make the RFM table, columns can be created, such as Recency, Frequency, and MonetaryValue column.\n",
    "\n",
    "To get the number of days for recency column, the snapshot date can be subtracted from the date the transaction occurred.\n",
    "\n",
    "To create the frequency column, the number of transactions by each customer can be counted.\n",
    "\n",
    "Lastly, to create the monetary value column, the transactions for each customer can be summed up."
   ]
  },
  {
   "cell_type": "code",
   "execution_count": 137,
   "id": "bdac27be",
   "metadata": {},
   "outputs": [],
   "source": [
    "# Convert to show date only\n",
    "# Import library\n",
    "from datetime import datetime\n",
    "df_new[\"InvoiceDate\"] = df_new[\"InvoiceDate\"].dt.date\n",
    "\n",
    "# Create TotalSum colummn\n",
    "df_new[\"TotalSum\"] = df_new[\"Quantity\"] * df_new[\"UnitPrice\"]\n",
    "\n",
    "# Create date variable that records recency\n",
    "# Import library\n",
    "import datetime\n",
    "snapshot_date = max(df_new.InvoiceDate) + datetime.timedelta(days=1)\n",
    "\n",
    "# Aggregate data by each customer\n",
    "customers = df_new.groupby(['CustomerID']).agg({\n",
    "    'InvoiceDate': lambda x: (snapshot_date - x.max()).days,\n",
    "    'InvoiceNo': 'count',\n",
    "    'TotalSum': 'sum'})\n",
    "\n",
    "# Rename columns\n",
    "customers.rename(columns = {'InvoiceDate': 'Recency',\n",
    "                            'InvoiceNo': 'Frequency',\n",
    "                            'TotalSum': 'MonetaryValue'}, inplace=True)"
   ]
  },
  {
   "cell_type": "code",
   "execution_count": 138,
   "id": "5fb9f029",
   "metadata": {},
   "outputs": [
    {
     "data": {
      "text/html": [
       "<div>\n",
       "<style scoped>\n",
       "    .dataframe tbody tr th:only-of-type {\n",
       "        vertical-align: middle;\n",
       "    }\n",
       "\n",
       "    .dataframe tbody tr th {\n",
       "        vertical-align: top;\n",
       "    }\n",
       "\n",
       "    .dataframe thead th {\n",
       "        text-align: right;\n",
       "    }\n",
       "</style>\n",
       "<table border=\"1\" class=\"dataframe\">\n",
       "  <thead>\n",
       "    <tr style=\"text-align: right;\">\n",
       "      <th></th>\n",
       "      <th>Recency</th>\n",
       "      <th>Frequency</th>\n",
       "      <th>MonetaryValue</th>\n",
       "    </tr>\n",
       "    <tr>\n",
       "      <th>CustomerID</th>\n",
       "      <th></th>\n",
       "      <th></th>\n",
       "      <th></th>\n",
       "    </tr>\n",
       "  </thead>\n",
       "  <tbody>\n",
       "    <tr>\n",
       "      <th>12347.0</th>\n",
       "      <td>40</td>\n",
       "      <td>5</td>\n",
       "      <td>133.20</td>\n",
       "    </tr>\n",
       "    <tr>\n",
       "      <th>12348.0</th>\n",
       "      <td>249</td>\n",
       "      <td>2</td>\n",
       "      <td>120.88</td>\n",
       "    </tr>\n",
       "    <tr>\n",
       "      <th>12349.0</th>\n",
       "      <td>19</td>\n",
       "      <td>2</td>\n",
       "      <td>312.75</td>\n",
       "    </tr>\n",
       "    <tr>\n",
       "      <th>12352.0</th>\n",
       "      <td>73</td>\n",
       "      <td>5</td>\n",
       "      <td>80.85</td>\n",
       "    </tr>\n",
       "    <tr>\n",
       "      <th>12354.0</th>\n",
       "      <td>233</td>\n",
       "      <td>2</td>\n",
       "      <td>33.30</td>\n",
       "    </tr>\n",
       "    <tr>\n",
       "      <th>...</th>\n",
       "      <td>...</td>\n",
       "      <td>...</td>\n",
       "      <td>...</td>\n",
       "    </tr>\n",
       "    <tr>\n",
       "      <th>18265.0</th>\n",
       "      <td>73</td>\n",
       "      <td>2</td>\n",
       "      <td>39.60</td>\n",
       "    </tr>\n",
       "    <tr>\n",
       "      <th>18272.0</th>\n",
       "      <td>3</td>\n",
       "      <td>11</td>\n",
       "      <td>206.17</td>\n",
       "    </tr>\n",
       "    <tr>\n",
       "      <th>18274.0</th>\n",
       "      <td>18</td>\n",
       "      <td>2</td>\n",
       "      <td>-4.65</td>\n",
       "    </tr>\n",
       "    <tr>\n",
       "      <th>18283.0</th>\n",
       "      <td>4</td>\n",
       "      <td>21</td>\n",
       "      <td>78.03</td>\n",
       "    </tr>\n",
       "    <tr>\n",
       "      <th>18287.0</th>\n",
       "      <td>43</td>\n",
       "      <td>4</td>\n",
       "      <td>68.28</td>\n",
       "    </tr>\n",
       "  </tbody>\n",
       "</table>\n",
       "<p>2690 rows × 3 columns</p>\n",
       "</div>"
      ],
      "text/plain": [
       "            Recency  Frequency  MonetaryValue\n",
       "CustomerID                                   \n",
       "12347.0          40          5         133.20\n",
       "12348.0         249          2         120.88\n",
       "12349.0          19          2         312.75\n",
       "12352.0          73          5          80.85\n",
       "12354.0         233          2          33.30\n",
       "...             ...        ...            ...\n",
       "18265.0          73          2          39.60\n",
       "18272.0           3         11         206.17\n",
       "18274.0          18          2          -4.65\n",
       "18283.0           4         21          78.03\n",
       "18287.0          43          4          68.28\n",
       "\n",
       "[2690 rows x 3 columns]"
      ]
     },
     "execution_count": 138,
     "metadata": {},
     "output_type": "execute_result"
    }
   ],
   "source": [
    "customers"
   ]
  },
  {
   "cell_type": "code",
   "execution_count": 139,
   "id": "3354e474",
   "metadata": {},
   "outputs": [
    {
     "data": {
      "text/html": [
       "<div>\n",
       "<style scoped>\n",
       "    .dataframe tbody tr th:only-of-type {\n",
       "        vertical-align: middle;\n",
       "    }\n",
       "\n",
       "    .dataframe tbody tr th {\n",
       "        vertical-align: top;\n",
       "    }\n",
       "\n",
       "    .dataframe thead th {\n",
       "        text-align: right;\n",
       "    }\n",
       "</style>\n",
       "<table border=\"1\" class=\"dataframe\">\n",
       "  <thead>\n",
       "    <tr style=\"text-align: right;\">\n",
       "      <th></th>\n",
       "      <th>Recency</th>\n",
       "      <th>Frequency</th>\n",
       "      <th>MonetaryValue</th>\n",
       "    </tr>\n",
       "    <tr>\n",
       "      <th>CustomerID</th>\n",
       "      <th></th>\n",
       "      <th></th>\n",
       "      <th></th>\n",
       "    </tr>\n",
       "  </thead>\n",
       "  <tbody>\n",
       "    <tr>\n",
       "      <th>12347.0</th>\n",
       "      <td>40</td>\n",
       "      <td>5</td>\n",
       "      <td>133.20</td>\n",
       "    </tr>\n",
       "    <tr>\n",
       "      <th>12348.0</th>\n",
       "      <td>249</td>\n",
       "      <td>2</td>\n",
       "      <td>120.88</td>\n",
       "    </tr>\n",
       "    <tr>\n",
       "      <th>12349.0</th>\n",
       "      <td>19</td>\n",
       "      <td>2</td>\n",
       "      <td>312.75</td>\n",
       "    </tr>\n",
       "    <tr>\n",
       "      <th>12352.0</th>\n",
       "      <td>73</td>\n",
       "      <td>5</td>\n",
       "      <td>80.85</td>\n",
       "    </tr>\n",
       "    <tr>\n",
       "      <th>12354.0</th>\n",
       "      <td>233</td>\n",
       "      <td>2</td>\n",
       "      <td>33.30</td>\n",
       "    </tr>\n",
       "  </tbody>\n",
       "</table>\n",
       "</div>"
      ],
      "text/plain": [
       "            Recency  Frequency  MonetaryValue\n",
       "CustomerID                                   \n",
       "12347.0          40          5         133.20\n",
       "12348.0         249          2         120.88\n",
       "12349.0          19          2         312.75\n",
       "12352.0          73          5          80.85\n",
       "12354.0         233          2          33.30"
      ]
     },
     "execution_count": 139,
     "metadata": {},
     "output_type": "execute_result"
    }
   ],
   "source": [
    "customers.head()"
   ]
  },
  {
   "cell_type": "markdown",
   "id": "797abbe0",
   "metadata": {},
   "source": [
    "#### Managing Skewness and Scaling"
   ]
  },
  {
   "cell_type": "markdown",
   "id": "592aec36",
   "metadata": {},
   "source": [
    "Skewness refers to a distortion or asymmetry that deviates from the symmetrical bell curve, or normal distribution, in a set of data. If the curve is shifted to the left or to the right, it is said to be skewed."
   ]
  },
  {
   "cell_type": "code",
   "execution_count": 140,
   "id": "fb8fa00f",
   "metadata": {},
   "outputs": [
    {
     "name": "stdout",
     "output_type": "stream",
     "text": [
      "[ 0.9337605  14.75693538 16.61729812]\n",
      "[ 0.93428156 14.76517002 16.62657088]\n"
     ]
    }
   ],
   "source": [
    "# Import library\n",
    "from scipy. stats import skew\n",
    "print(skew(customers))\n",
    "print(skew(customers, bias=False))"
   ]
  },
  {
   "cell_type": "markdown",
   "id": "3185f3e3",
   "metadata": {},
   "source": [
    "##### The data has to meet these assumptions, which are:"
   ]
  },
  {
   "cell_type": "markdown",
   "id": "163e6d48",
   "metadata": {},
   "source": [
    "The data should meet criteria where the variables are not skewed and have the same mean and variance"
   ]
  },
  {
   "cell_type": "markdown",
   "id": "9cbcddb4",
   "metadata": {},
   "source": [
    "For that reason, the skewness of the variables has to be managed.\n",
    "These are the visualizations of each variable,"
   ]
  },
  {
   "cell_type": "code",
   "execution_count": 103,
   "id": "4dcc2f70",
   "metadata": {},
   "outputs": [
    {
     "data": {
      "image/png": "[encoded data removed]",
      "text/plain": [
       "<Figure size 1080x216 with 3 Axes>"
      ]
     },
     "metadata": {
      "needs_background": "light"
     },
     "output_type": "display_data"
    }
   ],
   "source": [
    "# Import library\n",
    "import seaborn as sns\n",
    "fig, ax = plt.subplots(1, 3, figsize=(15,3))\n",
    "sns.histplot(customers['Recency'], ax=ax[0])\n",
    "sns.histplot(customers['Frequency'], ax=ax[1])\n",
    "sns.histplot(customers['MonetaryValue'], ax=ax[2])\n",
    "plt.tight_layout()\n",
    "plt.show()"
   ]
  },
  {
   "cell_type": "markdown",
   "id": "698798b5",
   "metadata": {},
   "source": [
    "As seen above, the data has to be transformed, so it has a more symmetrical form.\n",
    "There are some methods that can be used to manage the skewness, they are,\n",
    "\n",
    "- log transformation\n",
    "- square root transformation\n",
    "- box-cox transformation\n",
    "\n",
    "Note: The transformation can only be used only if the variable has only positive values.\n",
    "\n",
    "Below are the visualizations of each variable and with and without transformations. From top left clockwise on each variable shows the plot without transformation, log transformation, square root transformation, and box-cox transformation."
   ]
  },
  {
   "cell_type": "code",
   "execution_count": 104,
   "id": "94c9a334",
   "metadata": {},
   "outputs": [],
   "source": [
    "# Import library\n",
    "from scipy import stats\n",
    "def analyze_skewness(x):\n",
    "    fig, ax = plt.subplots(2, 2, figsize=(5,5))\n",
    "    sns.histplot(customers[x], ax=ax[0,0])\n",
    "    sns.histplot(np.log(customers[x]), ax=ax[0,1])\n",
    "    sns.histplot(np.sqrt(customers[x]), ax=ax[1,0])\n",
    "    sns.histplot(stats.boxcox(customers[x])[0], ax=ax[1,1])\n",
    "    plt.tight_layout()\n",
    "    plt.show()\n",
    "    \n",
    "    print(customers[x].skew().round(2))\n",
    "    print(np.log(customers[x]).skew().round(2))\n",
    "    print(np.sqrt(customers[x]).skew().round(2))\n",
    "    print(pd.Series(stats.boxcox(customers[x])[0]).skew().round(2))"
   ]
  },
  {
   "cell_type": "code",
   "execution_count": 105,
   "id": "3c9b3e25",
   "metadata": {},
   "outputs": [
    {
     "data": {
      "image/png": "[encoded data removed]",
      "text/plain": [
       "<Figure size 360x360 with 4 Axes>"
      ]
     },
     "metadata": {
      "needs_background": "light"
     },
     "output_type": "display_data"
    },
    {
     "name": "stdout",
     "output_type": "stream",
     "text": [
      "0.93\n",
      "-0.72\n",
      "0.32\n",
      "-0.1\n"
     ]
    }
   ],
   "source": [
    "analyze_skewness('Recency')"
   ]
  },
  {
   "cell_type": "code",
   "execution_count": 106,
   "id": "5629b884",
   "metadata": {},
   "outputs": [
    {
     "data": {
      "image/png": "[encoded data removed]",
      "text/plain": [
       "<Figure size 360x360 with 4 Axes>"
      ]
     },
     "metadata": {
      "needs_background": "light"
     },
     "output_type": "display_data"
    },
    {
     "name": "stdout",
     "output_type": "stream",
     "text": [
      "14.77\n",
      "0.85\n",
      "3.67\n",
      "0.16\n"
     ]
    }
   ],
   "source": [
    "analyze_skewness('Frequency')"
   ]
  },
  {
   "cell_type": "code",
   "execution_count": 182,
   "id": "58d31fca",
   "metadata": {},
   "outputs": [
    {
     "data": {
      "text/plain": [
       "[(0.0, 420.0)]"
      ]
     },
     "execution_count": 182,
     "metadata": {},
     "output_type": "execute_result"
    },
    {
     "data": {
      "image/png": "[encoded data removed]",
      "text/plain": [
       "<Figure size 864x432 with 2 Axes>"
      ]
     },
     "metadata": {
      "needs_background": "light"
     },
     "output_type": "display_data"
    }
   ],
   "source": [
    "#Violin plot of Recency and MonetaryValue\n",
    "f, axes = plt.subplots(1,2, figsize=(12,6), sharex=True, sharey=True)\n",
    "v1 = sns.violinplot(data=customers, x='Recency', color=\"skyblue\",ax=axes[0])\n",
    "v2 = sns.violinplot(data=customers, x='MonetaryValue',color=\"yellow\", ax=axes[1])\n",
    "v1.set(xlim=(0,420))"
   ]
  },
  {
   "cell_type": "code",
   "execution_count": 180,
   "id": "c0d5f2ae",
   "metadata": {},
   "outputs": [
    {
     "data": {
      "text/plain": [
       "[(0.0, 420.0)]"
      ]
     },
     "execution_count": 180,
     "metadata": {},
     "output_type": "execute_result"
    },
    {
     "data": {
      "image/png": "[encoded data removed]",
      "text/plain": [
       "<Figure size 864x432 with 2 Axes>"
      ]
     },
     "metadata": {
      "needs_background": "light"
     },
     "output_type": "display_data"
    }
   ],
   "source": [
    "#Violin plot of Frequency and MonetaryValue\n",
    "f, axes = plt.subplots(1,2, figsize=(12,6), sharex=True, sharey=True)\n",
    "v1 = sns.violinplot(data=customers, x='Frequency',color=\"lightgreen\", ax=axes[0])\n",
    "v2 = sns.violinplot(data=customers, x='MonetaryValue',color=\"yellow\", ax=axes[1])\n",
    "v1.set(xlim=(0,420))"
   ]
  },
  {
   "cell_type": "markdown",
   "id": "b67a8d73",
   "metadata": {},
   "source": [
    "Here is how to interpret the skewness value. If the value is close to 0, the variable tend to have symmetrical \n",
    "form. However, if it’s not, the variable has skew on it."
   ]
  },
  {
   "cell_type": "markdown",
   "id": "ba644974",
   "metadata": {},
   "source": [
    "Based on these visualizations, it shows that the variables with box-cox transformation shows a more symmetrical form rather than the other transformations. Hence the variables with box-cox transformations are used, except for the MonetaryValue variable because the variable includes negative values. To handle this variable, the cubic root transformation is used on the data, so the comparison looks like this, "
   ]
  },
  {
   "cell_type": "code",
   "execution_count": 107,
   "id": "b2dae26b",
   "metadata": {},
   "outputs": [
    {
     "data": {
      "image/png": "[encoded data removed]",
      "text/plain": [
       "<Figure size 720x216 with 2 Axes>"
      ]
     },
     "metadata": {
      "needs_background": "light"
     },
     "output_type": "display_data"
    },
    {
     "name": "stdout",
     "output_type": "stream",
     "text": [
      "16.63\n",
      "1.16\n"
     ]
    }
   ],
   "source": [
    "fig, ax = plt.subplots(1, 2, figsize=(10,3))\n",
    "sns.histplot(customers['MonetaryValue'], ax=ax[0])\n",
    "sns.histplot(np.cbrt(customers['MonetaryValue']), ax=ax[1])\n",
    "plt.show()\n",
    "print(customers['MonetaryValue'].skew().round(2))\n",
    "print(np.cbrt(customers['MonetaryValue']).skew().round(2))"
   ]
  },
  {
   "cell_type": "code",
   "execution_count": 108,
   "id": "9d8e4254",
   "metadata": {},
   "outputs": [
    {
     "data": {
      "text/plain": [
       "array([ 5.10702607,  4.94445183,  6.78785317, ..., -1.66910753,\n",
       "        4.27320639,  4.0872497 ])"
      ]
     },
     "execution_count": 108,
     "metadata": {},
     "output_type": "execute_result"
    }
   ],
   "source": [
    "pd.Series(np.cbrt(customers['MonetaryValue'])).values"
   ]
  },
  {
   "cell_type": "markdown",
   "id": "9c4a871b",
   "metadata": {},
   "source": [
    "By using the transformation, we will have data that are less skewed. The skewness value declines from 16.63 to 1.16. Therefore, the RFM table can be transformed using this code,"
   ]
  },
  {
   "cell_type": "code",
   "execution_count": 141,
   "id": "0807f0d8",
   "metadata": {},
   "outputs": [
    {
     "data": {
      "text/html": [
       "<div>\n",
       "<style scoped>\n",
       "    .dataframe tbody tr th:only-of-type {\n",
       "        vertical-align: middle;\n",
       "    }\n",
       "\n",
       "    .dataframe tbody tr th {\n",
       "        vertical-align: top;\n",
       "    }\n",
       "\n",
       "    .dataframe thead th {\n",
       "        text-align: right;\n",
       "    }\n",
       "</style>\n",
       "<table border=\"1\" class=\"dataframe\">\n",
       "  <thead>\n",
       "    <tr style=\"text-align: right;\">\n",
       "      <th></th>\n",
       "      <th>Recency</th>\n",
       "      <th>Frequency</th>\n",
       "      <th>MonetaryValue</th>\n",
       "    </tr>\n",
       "  </thead>\n",
       "  <tbody>\n",
       "    <tr>\n",
       "      <th>2685</th>\n",
       "      <td>7.832068</td>\n",
       "      <td>0.591193</td>\n",
       "      <td>3.408514</td>\n",
       "    </tr>\n",
       "    <tr>\n",
       "      <th>2686</th>\n",
       "      <td>1.269495</td>\n",
       "      <td>1.435599</td>\n",
       "      <td>5.907565</td>\n",
       "    </tr>\n",
       "    <tr>\n",
       "      <th>2687</th>\n",
       "      <td>4.288385</td>\n",
       "      <td>0.591193</td>\n",
       "      <td>-1.669108</td>\n",
       "    </tr>\n",
       "    <tr>\n",
       "      <th>2688</th>\n",
       "      <td>1.665555</td>\n",
       "      <td>1.615329</td>\n",
       "      <td>4.273206</td>\n",
       "    </tr>\n",
       "    <tr>\n",
       "      <th>2689</th>\n",
       "      <td>6.340700</td>\n",
       "      <td>1.017445</td>\n",
       "      <td>4.087250</td>\n",
       "    </tr>\n",
       "  </tbody>\n",
       "</table>\n",
       "</div>"
      ],
      "text/plain": [
       "       Recency  Frequency  MonetaryValue\n",
       "2685  7.832068   0.591193       3.408514\n",
       "2686  1.269495   1.435599       5.907565\n",
       "2687  4.288385   0.591193      -1.669108\n",
       "2688  1.665555   1.615329       4.273206\n",
       "2689  6.340700   1.017445       4.087250"
      ]
     },
     "execution_count": 141,
     "metadata": {},
     "output_type": "execute_result"
    }
   ],
   "source": [
    "# Set the Numbers\n",
    "# Import library\n",
    "from scipy import stats\n",
    "customers_new = pd.DataFrame()\n",
    "customers_new[\"Recency\"] = stats.boxcox(customers['Recency'])[0]\n",
    "customers_new[\"Frequency\"] = stats.boxcox(customers['Frequency'])[0]\n",
    "customers_new[\"MonetaryValue\"] = pd.Series(np.cbrt(customers['MonetaryValue'])).values\n",
    "customers_new.tail()"
   ]
  },
  {
   "cell_type": "markdown",
   "id": "35a44e29",
   "metadata": {},
   "source": [
    "#### Centering and Scaling Variables"
   ]
  },
  {
   "cell_type": "markdown",
   "id": "38255da0",
   "metadata": {},
   "source": [
    "Looking at the plot once more, each variable don’t have the same mean and variance. Therefore it should be normalized. To normalize, it, the StandardScaler object from scikit-learn library can be used. The code will look like this,"
   ]
  },
  {
   "cell_type": "code",
   "execution_count": 142,
   "id": "a85b175f",
   "metadata": {},
   "outputs": [
    {
     "name": "stdout",
     "output_type": "stream",
     "text": [
      "[ 0. -0. -0.]\n",
      "[1. 1. 1.]\n"
     ]
    }
   ],
   "source": [
    "# Import library\n",
    "from sklearn.preprocessing import StandardScaler\n",
    "\n",
    "# Initialize the Object\n",
    "scaler = StandardScaler()\n",
    "\n",
    "# Fit and Transform The Data\n",
    "scaler.fit(customers_new)\n",
    "customers_normalized = scaler.transform(customers_new)\n",
    "\n",
    "# Assert that it has mean 0 and variance 1\n",
    "print(customers_normalized.mean(axis = 0).round(2))\n",
    "print(customers_normalized.std(axis = 0).round(2))"
   ]
  },
  {
   "cell_type": "code",
   "execution_count": 143,
   "id": "33aa3e54",
   "metadata": {},
   "outputs": [
    {
     "data": {
      "text/html": [
       "<div>\n",
       "<style scoped>\n",
       "    .dataframe tbody tr th:only-of-type {\n",
       "        vertical-align: middle;\n",
       "    }\n",
       "\n",
       "    .dataframe tbody tr th {\n",
       "        vertical-align: top;\n",
       "    }\n",
       "\n",
       "    .dataframe thead th {\n",
       "        text-align: right;\n",
       "    }\n",
       "</style>\n",
       "<table border=\"1\" class=\"dataframe\">\n",
       "  <thead>\n",
       "    <tr style=\"text-align: right;\">\n",
       "      <th></th>\n",
       "      <th>0</th>\n",
       "      <th>1</th>\n",
       "      <th>2</th>\n",
       "    </tr>\n",
       "  </thead>\n",
       "  <tbody>\n",
       "    <tr>\n",
       "      <th>0</th>\n",
       "      <td>-0.493794</td>\n",
       "      <td>1.012426</td>\n",
       "      <td>1.017503</td>\n",
       "    </tr>\n",
       "    <tr>\n",
       "      <th>1</th>\n",
       "      <td>1.232949</td>\n",
       "      <td>-0.017412</td>\n",
       "      <td>0.925115</td>\n",
       "    </tr>\n",
       "    <tr>\n",
       "      <th>2</th>\n",
       "      <td>-0.994917</td>\n",
       "      <td>-0.017412</td>\n",
       "      <td>1.972690</td>\n",
       "    </tr>\n",
       "    <tr>\n",
       "      <th>3</th>\n",
       "      <td>-0.012582</td>\n",
       "      <td>1.012426</td>\n",
       "      <td>0.572565</td>\n",
       "    </tr>\n",
       "    <tr>\n",
       "      <th>4</th>\n",
       "      <td>1.155005</td>\n",
       "      <td>-0.017412</td>\n",
       "      <td>-0.056441</td>\n",
       "    </tr>\n",
       "  </tbody>\n",
       "</table>\n",
       "</div>"
      ],
      "text/plain": [
       "          0         1         2\n",
       "0 -0.493794  1.012426  1.017503\n",
       "1  1.232949 -0.017412  0.925115\n",
       "2 -0.994917 -0.017412  1.972690\n",
       "3 -0.012582  1.012426  0.572565\n",
       "4  1.155005 -0.017412 -0.056441"
      ]
     },
     "execution_count": 143,
     "metadata": {},
     "output_type": "execute_result"
    }
   ],
   "source": [
    "pd.DataFrame(customers_normalized).head()"
   ]
  },
  {
   "cell_type": "markdown",
   "id": "a6be8fd1",
   "metadata": {},
   "source": [
    "### Modelling\n",
    "#### Choose k-number"
   ]
  },
  {
   "cell_type": "markdown",
   "id": "5d112f91",
   "metadata": {},
   "source": [
    "Right after preprocessing the data, modelling can now be focused on to make segmentation from the data, the K-Means algorithm can be used to do this.\n",
    "\n",
    "K-Means algorithm is an unsupervised learning algorithm that uses the geometrical principle to determine which cluster belongs to the data. By determining each centroid, the distance to each centroid is calculated. Each data belongs to a centroid if it has the smallest distance from the other. It repeats until the next total of the distance doesn’t have significant changes than before.\n",
    "\n",
    "To implement K-Means in Python the KMeans function from scikit-learn can be used to do this.\n",
    "\n",
    "To make clustering reach its maximum performance, the hyperparameter that fits to the data has to be determined. To determine which hyperparameter is the best for the model and data, the elbow method can be used to decide. The code will look like this,"
   ]
  },
  {
   "cell_type": "code",
   "execution_count": 144,
   "id": "6850cbfa",
   "metadata": {},
   "outputs": [
    {
     "data": {
      "image/png": "[encoded data removed]",
      "text/plain": [
       "<Figure size 432x288 with 1 Axes>"
      ]
     },
     "metadata": {
      "needs_background": "light"
     },
     "output_type": "display_data"
    }
   ],
   "source": [
    "# Import library\n",
    "from sklearn.cluster import KMeans\n",
    "\n",
    "sse = {}\n",
    "for k in range(1, 11):\n",
    "    kmeans = KMeans(n_clusters=k, random_state=42)\n",
    "    kmeans.fit(customers_normalized)\n",
    "    sse[k] = kmeans.inertia_ # SSE to closest cluster centroid\n",
    "\n",
    "plt.title('The Elbow Method')\n",
    "plt.xlabel('k')\n",
    "plt.ylabel('SSE')\n",
    "sns.pointplot(x=list(sse.keys()), y=list(sse.values()))\n",
    "plt.show()"
   ]
  },
  {
   "cell_type": "markdown",
   "id": "da1a9420",
   "metadata": {},
   "source": [
    "**Interpreting the plot:**\n",
    "\n",
    "The x-axis is the value of the k, and the y-axis is the SSE value of the data. Taking the best parameter by looking at where the k-value will have a linear trend on the next consecutive k.\n",
    "Based on observation, the k-value of 3 is the best hyperparameter for the model because the next k-value tend to have a linear trend. Therefore, the best model for the data is K-Means with the number of clusters as 3.\n",
    "\n",
    "Now, the model can be fitted with this code,"
   ]
  },
  {
   "cell_type": "code",
   "execution_count": 145,
   "id": "d6d6cbc2",
   "metadata": {},
   "outputs": [
    {
     "data": {
      "text/plain": [
       "(2690,)"
      ]
     },
     "execution_count": 145,
     "metadata": {},
     "output_type": "execute_result"
    }
   ],
   "source": [
    "model = KMeans(n_clusters=3, random_state=42)\n",
    "model.fit(customers_normalized)\n",
    "model.labels_.shape"
   ]
  },
  {
   "cell_type": "code",
   "execution_count": 146,
   "id": "4d388e1a",
   "metadata": {},
   "outputs": [
    {
     "data": {
      "text/plain": [
       "(2690, 3)"
      ]
     },
     "execution_count": 146,
     "metadata": {},
     "output_type": "execute_result"
    }
   ],
   "source": [
    "customers.shape"
   ]
  },
  {
   "cell_type": "markdown",
   "id": "106058f6",
   "metadata": {},
   "source": [
    "By fitting the model, clusters can be grouped where each data belongs. By that, the data can be analyzed.\n",
    "\n",
    "\n",
    "### Interpreting The Segment\n",
    "The RFM table can be summarised based on clusters and the mean of each variable calculated. The code will look like this,\n"
   ]
  },
  {
   "cell_type": "markdown",
   "id": "189d6944",
   "metadata": {},
   "source": [
    "### Cluster Analysis"
   ]
  },
  {
   "cell_type": "code",
   "execution_count": 150,
   "id": "08d4aa34",
   "metadata": {},
   "outputs": [
    {
     "data": {
      "text/html": [
       "<div>\n",
       "<style scoped>\n",
       "    .dataframe tbody tr th:only-of-type {\n",
       "        vertical-align: middle;\n",
       "    }\n",
       "\n",
       "    .dataframe tbody tr th {\n",
       "        vertical-align: top;\n",
       "    }\n",
       "\n",
       "    .dataframe thead th {\n",
       "        text-align: right;\n",
       "    }\n",
       "</style>\n",
       "<table border=\"1\" class=\"dataframe\">\n",
       "  <thead>\n",
       "    <tr style=\"text-align: right;\">\n",
       "      <th></th>\n",
       "      <th>Recency</th>\n",
       "      <th>Frequency</th>\n",
       "      <th>MonetaryValue</th>\n",
       "      <th>Cluster</th>\n",
       "    </tr>\n",
       "    <tr>\n",
       "      <th>CustomerID</th>\n",
       "      <th></th>\n",
       "      <th></th>\n",
       "      <th></th>\n",
       "      <th></th>\n",
       "    </tr>\n",
       "  </thead>\n",
       "  <tbody>\n",
       "    <tr>\n",
       "      <th>12347.0</th>\n",
       "      <td>40</td>\n",
       "      <td>5</td>\n",
       "      <td>133.20</td>\n",
       "      <td>0</td>\n",
       "    </tr>\n",
       "    <tr>\n",
       "      <th>12348.0</th>\n",
       "      <td>249</td>\n",
       "      <td>2</td>\n",
       "      <td>120.88</td>\n",
       "      <td>2</td>\n",
       "    </tr>\n",
       "    <tr>\n",
       "      <th>12349.0</th>\n",
       "      <td>19</td>\n",
       "      <td>2</td>\n",
       "      <td>312.75</td>\n",
       "      <td>0</td>\n",
       "    </tr>\n",
       "    <tr>\n",
       "      <th>12352.0</th>\n",
       "      <td>73</td>\n",
       "      <td>5</td>\n",
       "      <td>80.85</td>\n",
       "      <td>0</td>\n",
       "    </tr>\n",
       "    <tr>\n",
       "      <th>12354.0</th>\n",
       "      <td>233</td>\n",
       "      <td>2</td>\n",
       "      <td>33.30</td>\n",
       "      <td>2</td>\n",
       "    </tr>\n",
       "  </tbody>\n",
       "</table>\n",
       "</div>"
      ],
      "text/plain": [
       "            Recency  Frequency  MonetaryValue  Cluster\n",
       "CustomerID                                            \n",
       "12347.0          40          5         133.20        0\n",
       "12348.0         249          2         120.88        2\n",
       "12349.0          19          2         312.75        0\n",
       "12352.0          73          5          80.85        0\n",
       "12354.0         233          2          33.30        2"
      ]
     },
     "execution_count": 150,
     "metadata": {},
     "output_type": "execute_result"
    }
   ],
   "source": [
    "customers[\"Cluster\"] = model.labels_\n",
    "customers.head()"
   ]
  },
  {
   "cell_type": "code",
   "execution_count": 159,
   "id": "c47aa9c4",
   "metadata": {},
   "outputs": [
    {
     "data": {
      "text/html": [
       "<div>\n",
       "<style scoped>\n",
       "    .dataframe tbody tr th:only-of-type {\n",
       "        vertical-align: middle;\n",
       "    }\n",
       "\n",
       "    .dataframe tbody tr th {\n",
       "        vertical-align: top;\n",
       "    }\n",
       "\n",
       "    .dataframe thead tr th {\n",
       "        text-align: left;\n",
       "    }\n",
       "\n",
       "    .dataframe thead tr:last-of-type th {\n",
       "        text-align: right;\n",
       "    }\n",
       "</style>\n",
       "<table border=\"1\" class=\"dataframe\">\n",
       "  <thead>\n",
       "    <tr>\n",
       "      <th></th>\n",
       "      <th>Recency</th>\n",
       "      <th>Frequency</th>\n",
       "      <th colspan=\"2\" halign=\"left\">MonetaryValue</th>\n",
       "    </tr>\n",
       "    <tr>\n",
       "      <th></th>\n",
       "      <th>sum</th>\n",
       "      <th>sum</th>\n",
       "      <th>sum</th>\n",
       "      <th>count</th>\n",
       "    </tr>\n",
       "    <tr>\n",
       "      <th>Cluster</th>\n",
       "      <th></th>\n",
       "      <th></th>\n",
       "      <th></th>\n",
       "      <th></th>\n",
       "    </tr>\n",
       "  </thead>\n",
       "  <tbody>\n",
       "    <tr>\n",
       "      <th>0</th>\n",
       "      <td>42731</td>\n",
       "      <td>7123</td>\n",
       "      <td>153194.2</td>\n",
       "      <td>924</td>\n",
       "    </tr>\n",
       "    <tr>\n",
       "      <th>1</th>\n",
       "      <td>38616</td>\n",
       "      <td>1307</td>\n",
       "      <td>17446.0</td>\n",
       "      <td>811</td>\n",
       "    </tr>\n",
       "    <tr>\n",
       "      <th>2</th>\n",
       "      <td>217066</td>\n",
       "      <td>1570</td>\n",
       "      <td>27413.1</td>\n",
       "      <td>955</td>\n",
       "    </tr>\n",
       "  </tbody>\n",
       "</table>\n",
       "</div>"
      ],
      "text/plain": [
       "        Recency Frequency MonetaryValue      \n",
       "            sum       sum           sum count\n",
       "Cluster                                      \n",
       "0         42731      7123      153194.2   924\n",
       "1         38616      1307       17446.0   811\n",
       "2        217066      1570       27413.1   955"
      ]
     },
     "execution_count": 159,
     "metadata": {},
     "output_type": "execute_result"
    }
   ],
   "source": [
    "customers.groupby('Cluster').agg({\n",
    "    'Recency':'sum',\n",
    "    'Frequency':'sum',\n",
    "    'MonetaryValue':['sum', 'count']}).round(1)"
   ]
  },
  {
   "cell_type": "code",
   "execution_count": 160,
   "id": "6dd7fa3e",
   "metadata": {},
   "outputs": [
    {
     "data": {
      "text/html": [
       "<div>\n",
       "<style scoped>\n",
       "    .dataframe tbody tr th:only-of-type {\n",
       "        vertical-align: middle;\n",
       "    }\n",
       "\n",
       "    .dataframe tbody tr th {\n",
       "        vertical-align: top;\n",
       "    }\n",
       "\n",
       "    .dataframe thead tr th {\n",
       "        text-align: left;\n",
       "    }\n",
       "\n",
       "    .dataframe thead tr:last-of-type th {\n",
       "        text-align: right;\n",
       "    }\n",
       "</style>\n",
       "<table border=\"1\" class=\"dataframe\">\n",
       "  <thead>\n",
       "    <tr>\n",
       "      <th></th>\n",
       "      <th>Recency</th>\n",
       "      <th>Frequency</th>\n",
       "      <th colspan=\"2\" halign=\"left\">MonetaryValue</th>\n",
       "    </tr>\n",
       "    <tr>\n",
       "      <th></th>\n",
       "      <th>mean</th>\n",
       "      <th>mean</th>\n",
       "      <th>mean</th>\n",
       "      <th>count</th>\n",
       "    </tr>\n",
       "    <tr>\n",
       "      <th>Cluster</th>\n",
       "      <th></th>\n",
       "      <th></th>\n",
       "      <th></th>\n",
       "      <th></th>\n",
       "    </tr>\n",
       "  </thead>\n",
       "  <tbody>\n",
       "    <tr>\n",
       "      <th>0</th>\n",
       "      <td>46.2</td>\n",
       "      <td>7.7</td>\n",
       "      <td>165.8</td>\n",
       "      <td>924</td>\n",
       "    </tr>\n",
       "    <tr>\n",
       "      <th>1</th>\n",
       "      <td>47.6</td>\n",
       "      <td>1.6</td>\n",
       "      <td>21.5</td>\n",
       "      <td>811</td>\n",
       "    </tr>\n",
       "    <tr>\n",
       "      <th>2</th>\n",
       "      <td>227.3</td>\n",
       "      <td>1.6</td>\n",
       "      <td>28.7</td>\n",
       "      <td>955</td>\n",
       "    </tr>\n",
       "  </tbody>\n",
       "</table>\n",
       "</div>"
      ],
      "text/plain": [
       "        Recency Frequency MonetaryValue      \n",
       "           mean      mean          mean count\n",
       "Cluster                                      \n",
       "0          46.2       7.7         165.8   924\n",
       "1          47.6       1.6          21.5   811\n",
       "2         227.3       1.6          28.7   955"
      ]
     },
     "execution_count": 160,
     "metadata": {},
     "output_type": "execute_result"
    }
   ],
   "source": [
    "customers.groupby('Cluster').agg({\n",
    "    'Recency':'mean',\n",
    "    'Frequency':'mean',\n",
    "    'MonetaryValue':['mean', 'count']}).round(1)"
   ]
  },
  {
   "cell_type": "markdown",
   "id": "1fe881de",
   "metadata": {},
   "source": [
    "### Snake Plots"
   ]
  },
  {
   "cell_type": "markdown",
   "id": "f05eb80f",
   "metadata": {},
   "source": [
    "Besides that, the segments can be analyzed using snake plot. It requires the normalized dataset and also the cluster labels. By using this plot, A good visualization from the data on how the cluster differs from each other can be seen. The plot can be made using this code,\n"
   ]
  },
  {
   "cell_type": "code",
   "execution_count": 161,
   "id": "e6b4543a",
   "metadata": {},
   "outputs": [
    {
     "data": {
      "text/html": [
       "<div>\n",
       "<style scoped>\n",
       "    .dataframe tbody tr th:only-of-type {\n",
       "        vertical-align: middle;\n",
       "    }\n",
       "\n",
       "    .dataframe tbody tr th {\n",
       "        vertical-align: top;\n",
       "    }\n",
       "\n",
       "    .dataframe thead th {\n",
       "        text-align: right;\n",
       "    }\n",
       "</style>\n",
       "<table border=\"1\" class=\"dataframe\">\n",
       "  <thead>\n",
       "    <tr style=\"text-align: right;\">\n",
       "      <th></th>\n",
       "      <th>Recency</th>\n",
       "      <th>Frequency</th>\n",
       "      <th>MonetaryValue</th>\n",
       "      <th>ID</th>\n",
       "      <th>Cluster</th>\n",
       "    </tr>\n",
       "  </thead>\n",
       "  <tbody>\n",
       "    <tr>\n",
       "      <th>0</th>\n",
       "      <td>-0.493794</td>\n",
       "      <td>1.012426</td>\n",
       "      <td>1.017503</td>\n",
       "      <td>12347.0</td>\n",
       "      <td>0</td>\n",
       "    </tr>\n",
       "    <tr>\n",
       "      <th>1</th>\n",
       "      <td>1.232949</td>\n",
       "      <td>-0.017412</td>\n",
       "      <td>0.925115</td>\n",
       "      <td>12348.0</td>\n",
       "      <td>2</td>\n",
       "    </tr>\n",
       "    <tr>\n",
       "      <th>2</th>\n",
       "      <td>-0.994917</td>\n",
       "      <td>-0.017412</td>\n",
       "      <td>1.972690</td>\n",
       "      <td>12349.0</td>\n",
       "      <td>0</td>\n",
       "    </tr>\n",
       "    <tr>\n",
       "      <th>3</th>\n",
       "      <td>-0.012582</td>\n",
       "      <td>1.012426</td>\n",
       "      <td>0.572565</td>\n",
       "      <td>12352.0</td>\n",
       "      <td>0</td>\n",
       "    </tr>\n",
       "    <tr>\n",
       "      <th>4</th>\n",
       "      <td>1.155005</td>\n",
       "      <td>-0.017412</td>\n",
       "      <td>-0.056441</td>\n",
       "      <td>12354.0</td>\n",
       "      <td>2</td>\n",
       "    </tr>\n",
       "  </tbody>\n",
       "</table>\n",
       "</div>"
      ],
      "text/plain": [
       "    Recency  Frequency  MonetaryValue       ID  Cluster\n",
       "0 -0.493794   1.012426       1.017503  12347.0        0\n",
       "1  1.232949  -0.017412       0.925115  12348.0        2\n",
       "2 -0.994917  -0.017412       1.972690  12349.0        0\n",
       "3 -0.012582   1.012426       0.572565  12352.0        0\n",
       "4  1.155005  -0.017412      -0.056441  12354.0        2"
      ]
     },
     "execution_count": 161,
     "metadata": {},
     "output_type": "execute_result"
    }
   ],
   "source": [
    "# Create the dataframe\n",
    "df_normalized = pd.DataFrame(customers_normalized, columns=['Recency', 'Frequency', 'MonetaryValue'])\n",
    "df_normalized['ID'] = customers.index\n",
    "df_normalized['Cluster'] = model.labels_\n",
    "df_normalized.head()"
   ]
  },
  {
   "cell_type": "code",
   "execution_count": 162,
   "id": "4f7f5dc4",
   "metadata": {},
   "outputs": [
    {
     "data": {
      "text/html": [
       "<div>\n",
       "<style scoped>\n",
       "    .dataframe tbody tr th:only-of-type {\n",
       "        vertical-align: middle;\n",
       "    }\n",
       "\n",
       "    .dataframe tbody tr th {\n",
       "        vertical-align: top;\n",
       "    }\n",
       "\n",
       "    .dataframe thead th {\n",
       "        text-align: right;\n",
       "    }\n",
       "</style>\n",
       "<table border=\"1\" class=\"dataframe\">\n",
       "  <thead>\n",
       "    <tr style=\"text-align: right;\">\n",
       "      <th></th>\n",
       "      <th>ID</th>\n",
       "      <th>Cluster</th>\n",
       "      <th>Attribute</th>\n",
       "      <th>Value</th>\n",
       "    </tr>\n",
       "  </thead>\n",
       "  <tbody>\n",
       "    <tr>\n",
       "      <th>0</th>\n",
       "      <td>12347.0</td>\n",
       "      <td>0</td>\n",
       "      <td>Frequency</td>\n",
       "      <td>1.012426</td>\n",
       "    </tr>\n",
       "    <tr>\n",
       "      <th>1</th>\n",
       "      <td>12348.0</td>\n",
       "      <td>2</td>\n",
       "      <td>Frequency</td>\n",
       "      <td>-0.017412</td>\n",
       "    </tr>\n",
       "    <tr>\n",
       "      <th>2</th>\n",
       "      <td>12349.0</td>\n",
       "      <td>0</td>\n",
       "      <td>Frequency</td>\n",
       "      <td>-0.017412</td>\n",
       "    </tr>\n",
       "    <tr>\n",
       "      <th>3</th>\n",
       "      <td>12352.0</td>\n",
       "      <td>0</td>\n",
       "      <td>Frequency</td>\n",
       "      <td>1.012426</td>\n",
       "    </tr>\n",
       "    <tr>\n",
       "      <th>4</th>\n",
       "      <td>12354.0</td>\n",
       "      <td>2</td>\n",
       "      <td>Frequency</td>\n",
       "      <td>-0.017412</td>\n",
       "    </tr>\n",
       "  </tbody>\n",
       "</table>\n",
       "</div>"
      ],
      "text/plain": [
       "        ID  Cluster  Attribute     Value\n",
       "0  12347.0        0  Frequency  1.012426\n",
       "1  12348.0        2  Frequency -0.017412\n",
       "2  12349.0        0  Frequency -0.017412\n",
       "3  12352.0        0  Frequency  1.012426\n",
       "4  12354.0        2  Frequency -0.017412"
      ]
     },
     "execution_count": 162,
     "metadata": {},
     "output_type": "execute_result"
    }
   ],
   "source": [
    "# Melt The Data\n",
    "df_nor_melt = pd.melt(df_normalized.reset_index(),\n",
    "                      id_vars=['ID', 'Cluster'],\n",
    "                      value_vars=['Frequency','MonetaryValue','Recency'],\n",
    "                      var_name='Attribute',\n",
    "                      value_name='Value')\n",
    "df_nor_melt.head()"
   ]
  },
  {
   "cell_type": "code",
   "execution_count": 163,
   "id": "a13377d4",
   "metadata": {},
   "outputs": [
    {
     "data": {
      "text/plain": [
       "<AxesSubplot:xlabel='Attribute', ylabel='Value'>"
      ]
     },
     "execution_count": 163,
     "metadata": {},
     "output_type": "execute_result"
    },
    {
     "data": {
      "image/png": "[encoded data removed]",
      "text/plain": [
       "<Figure size 432x288 with 1 Axes>"
      ]
     },
     "metadata": {
      "needs_background": "light"
     },
     "output_type": "display_data"
    }
   ],
   "source": [
    "# import warnings filter\n",
    "from warnings import simplefilter\n",
    "\n",
    "# ignore all future warnings\n",
    "simplefilter(action='ignore', category=FutureWarning)\n",
    "\n",
    "# Visualize it\n",
    "sns.lineplot('Attribute', 'Value', hue='Cluster', data=df_nor_melt)"
   ]
  },
  {
   "cell_type": "markdown",
   "id": "31a11543",
   "metadata": {},
   "source": [
    "By using this plot, it is known how each segment differs. It describes more than the summarized table.\n",
    "\n",
    "It can therefore be infered that cluster 0 is frequent, spend more, and they buy the product recently. Therefore, it could be the cluster of a loyal customer.\n",
    "\n",
    "Then, the cluster 1 is less frequent, less to spend, but they buy the product recently. Therefore, it could be the cluster of new customer.\n",
    "\n",
    "Finally, the cluster 2 is less frequent, less to spend, and they buy the product at the old time. Therefore, it could be the cluster of churned customers."
   ]
  },
  {
   "cell_type": "code",
   "execution_count": 164,
   "id": "3bb72a6c",
   "metadata": {},
   "outputs": [
    {
     "data": {
      "text/html": [
       "<div>\n",
       "<style scoped>\n",
       "    .dataframe tbody tr th:only-of-type {\n",
       "        vertical-align: middle;\n",
       "    }\n",
       "\n",
       "    .dataframe tbody tr th {\n",
       "        vertical-align: top;\n",
       "    }\n",
       "\n",
       "    .dataframe thead tr th {\n",
       "        text-align: left;\n",
       "    }\n",
       "\n",
       "    .dataframe thead tr:last-of-type th {\n",
       "        text-align: right;\n",
       "    }\n",
       "</style>\n",
       "<table border=\"1\" class=\"dataframe\">\n",
       "  <thead>\n",
       "    <tr>\n",
       "      <th></th>\n",
       "      <th>Recency</th>\n",
       "      <th>Frequency</th>\n",
       "      <th colspan=\"2\" halign=\"left\">MonetaryValue</th>\n",
       "    </tr>\n",
       "    <tr>\n",
       "      <th></th>\n",
       "      <th>sum</th>\n",
       "      <th>sum</th>\n",
       "      <th>sum</th>\n",
       "      <th>count</th>\n",
       "    </tr>\n",
       "    <tr>\n",
       "      <th>Cluster</th>\n",
       "      <th></th>\n",
       "      <th></th>\n",
       "      <th></th>\n",
       "      <th></th>\n",
       "    </tr>\n",
       "  </thead>\n",
       "  <tbody>\n",
       "    <tr>\n",
       "      <th>0</th>\n",
       "      <td>42731</td>\n",
       "      <td>7123</td>\n",
       "      <td>153194.0</td>\n",
       "      <td>924</td>\n",
       "    </tr>\n",
       "    <tr>\n",
       "      <th>1</th>\n",
       "      <td>38616</td>\n",
       "      <td>1307</td>\n",
       "      <td>17446.0</td>\n",
       "      <td>811</td>\n",
       "    </tr>\n",
       "    <tr>\n",
       "      <th>2</th>\n",
       "      <td>217066</td>\n",
       "      <td>1570</td>\n",
       "      <td>27413.0</td>\n",
       "      <td>955</td>\n",
       "    </tr>\n",
       "  </tbody>\n",
       "</table>\n",
       "</div>"
      ],
      "text/plain": [
       "        Recency Frequency MonetaryValue      \n",
       "            sum       sum           sum count\n",
       "Cluster                                      \n",
       "0         42731      7123      153194.0   924\n",
       "1         38616      1307       17446.0   811\n",
       "2        217066      1570       27413.0   955"
      ]
     },
     "execution_count": 164,
     "metadata": {},
     "output_type": "execute_result"
    }
   ],
   "source": [
    "customers.groupby('Cluster').agg({\n",
    "    'Recency':'sum',\n",
    "    'Frequency':'sum',\n",
    "    'MonetaryValue':['sum', 'count']}).round()"
   ]
  },
  {
   "cell_type": "code",
   "execution_count": 165,
   "id": "04e5cd8f",
   "metadata": {},
   "outputs": [
    {
     "data": {
      "text/html": [
       "<div>\n",
       "<style scoped>\n",
       "    .dataframe tbody tr th:only-of-type {\n",
       "        vertical-align: middle;\n",
       "    }\n",
       "\n",
       "    .dataframe tbody tr th {\n",
       "        vertical-align: top;\n",
       "    }\n",
       "\n",
       "    .dataframe thead tr th {\n",
       "        text-align: left;\n",
       "    }\n",
       "\n",
       "    .dataframe thead tr:last-of-type th {\n",
       "        text-align: right;\n",
       "    }\n",
       "</style>\n",
       "<table border=\"1\" class=\"dataframe\">\n",
       "  <thead>\n",
       "    <tr>\n",
       "      <th></th>\n",
       "      <th>Recency</th>\n",
       "      <th>Frequency</th>\n",
       "      <th colspan=\"2\" halign=\"left\">MonetaryValue</th>\n",
       "    </tr>\n",
       "    <tr>\n",
       "      <th></th>\n",
       "      <th>mean</th>\n",
       "      <th>mean</th>\n",
       "      <th>mean</th>\n",
       "      <th>count</th>\n",
       "    </tr>\n",
       "    <tr>\n",
       "      <th>Cluster</th>\n",
       "      <th></th>\n",
       "      <th></th>\n",
       "      <th></th>\n",
       "      <th></th>\n",
       "    </tr>\n",
       "  </thead>\n",
       "  <tbody>\n",
       "    <tr>\n",
       "      <th>0</th>\n",
       "      <td>46.2</td>\n",
       "      <td>7.7</td>\n",
       "      <td>165.8</td>\n",
       "      <td>924</td>\n",
       "    </tr>\n",
       "    <tr>\n",
       "      <th>1</th>\n",
       "      <td>47.6</td>\n",
       "      <td>1.6</td>\n",
       "      <td>21.5</td>\n",
       "      <td>811</td>\n",
       "    </tr>\n",
       "    <tr>\n",
       "      <th>2</th>\n",
       "      <td>227.3</td>\n",
       "      <td>1.6</td>\n",
       "      <td>28.7</td>\n",
       "      <td>955</td>\n",
       "    </tr>\n",
       "  </tbody>\n",
       "</table>\n",
       "</div>"
      ],
      "text/plain": [
       "        Recency Frequency MonetaryValue      \n",
       "           mean      mean          mean count\n",
       "Cluster                                      \n",
       "0          46.2       7.7         165.8   924\n",
       "1          47.6       1.6          21.5   811\n",
       "2         227.3       1.6          28.7   955"
      ]
     },
     "execution_count": 165,
     "metadata": {},
     "output_type": "execute_result"
    }
   ],
   "source": [
    "customers.groupby('Cluster').agg({\n",
    "    'Recency':'mean',\n",
    "    'Frequency':'mean',\n",
    "    'MonetaryValue':['mean', 'count']}).round(1)"
   ]
  },
  {
   "cell_type": "code",
   "execution_count": 167,
   "id": "f7bb94e8",
   "metadata": {},
   "outputs": [
    {
     "data": {
      "text/html": [
       "<div>\n",
       "<style scoped>\n",
       "    .dataframe tbody tr th:only-of-type {\n",
       "        vertical-align: middle;\n",
       "    }\n",
       "\n",
       "    .dataframe tbody tr th {\n",
       "        vertical-align: top;\n",
       "    }\n",
       "\n",
       "    .dataframe thead th {\n",
       "        text-align: right;\n",
       "    }\n",
       "</style>\n",
       "<table border=\"1\" class=\"dataframe\">\n",
       "  <thead>\n",
       "    <tr style=\"text-align: right;\">\n",
       "      <th></th>\n",
       "      <th>Cluster</th>\n",
       "      <th>Frequency</th>\n",
       "      <th>MonetaryValue</th>\n",
       "      <th>Recency</th>\n",
       "    </tr>\n",
       "    <tr>\n",
       "      <th>Cluster</th>\n",
       "      <th></th>\n",
       "      <th></th>\n",
       "      <th></th>\n",
       "      <th></th>\n",
       "    </tr>\n",
       "  </thead>\n",
       "  <tbody>\n",
       "    <tr>\n",
       "      <th>0</th>\n",
       "      <td>NaN</td>\n",
       "      <td>-0.2877</td>\n",
       "      <td>-0.226500</td>\n",
       "      <td>-0.856806</td>\n",
       "    </tr>\n",
       "    <tr>\n",
       "      <th>1</th>\n",
       "      <td>NaN</td>\n",
       "      <td>-0.8693</td>\n",
       "      <td>-0.911913</td>\n",
       "      <td>-0.870595</td>\n",
       "    </tr>\n",
       "    <tr>\n",
       "      <th>2</th>\n",
       "      <td>NaN</td>\n",
       "      <td>-0.8430</td>\n",
       "      <td>-0.861587</td>\n",
       "      <td>-0.272599</td>\n",
       "    </tr>\n",
       "  </tbody>\n",
       "</table>\n",
       "</div>"
      ],
      "text/plain": [
       "         Cluster  Frequency  MonetaryValue   Recency\n",
       "Cluster                                             \n",
       "0            NaN    -0.2877      -0.226500 -0.856806\n",
       "1            NaN    -0.8693      -0.911913 -0.870595\n",
       "2            NaN    -0.8430      -0.861587 -0.272599"
      ]
     },
     "execution_count": 167,
     "metadata": {},
     "output_type": "execute_result"
    }
   ],
   "source": [
    "cluster_sum = customers.groupby('Cluster').sum()\n",
    "population_sum = customers.sum()\n",
    "relative_sum = cluster_sum / population_sum - 1\n",
    "relative_sum"
   ]
  },
  {
   "cell_type": "code",
   "execution_count": 168,
   "id": "f92da1e2",
   "metadata": {},
   "outputs": [
    {
     "data": {
      "text/html": [
       "<div>\n",
       "<style scoped>\n",
       "    .dataframe tbody tr th:only-of-type {\n",
       "        vertical-align: middle;\n",
       "    }\n",
       "\n",
       "    .dataframe tbody tr th {\n",
       "        vertical-align: top;\n",
       "    }\n",
       "\n",
       "    .dataframe thead th {\n",
       "        text-align: right;\n",
       "    }\n",
       "</style>\n",
       "<table border=\"1\" class=\"dataframe\">\n",
       "  <thead>\n",
       "    <tr style=\"text-align: right;\">\n",
       "      <th></th>\n",
       "      <th>Cluster</th>\n",
       "      <th>Frequency</th>\n",
       "      <th>MonetaryValue</th>\n",
       "      <th>Recency</th>\n",
       "    </tr>\n",
       "    <tr>\n",
       "      <th>Cluster</th>\n",
       "      <th></th>\n",
       "      <th></th>\n",
       "      <th></th>\n",
       "      <th></th>\n",
       "    </tr>\n",
       "  </thead>\n",
       "  <tbody>\n",
       "    <tr>\n",
       "      <th>0</th>\n",
       "      <td>NaN</td>\n",
       "      <td>1.073687</td>\n",
       "      <td>1.251856</td>\n",
       "      <td>-0.583125</td>\n",
       "    </tr>\n",
       "    <tr>\n",
       "      <th>1</th>\n",
       "      <td>NaN</td>\n",
       "      <td>-0.566482</td>\n",
       "      <td>-0.707823</td>\n",
       "      <td>-0.570779</td>\n",
       "    </tr>\n",
       "    <tr>\n",
       "      <th>2</th>\n",
       "      <td>NaN</td>\n",
       "      <td>-0.557770</td>\n",
       "      <td>-0.610126</td>\n",
       "      <td>1.048910</td>\n",
       "    </tr>\n",
       "  </tbody>\n",
       "</table>\n",
       "</div>"
      ],
      "text/plain": [
       "         Cluster  Frequency  MonetaryValue   Recency\n",
       "Cluster                                             \n",
       "0            NaN   1.073687       1.251856 -0.583125\n",
       "1            NaN  -0.566482      -0.707823 -0.570779\n",
       "2            NaN  -0.557770      -0.610126  1.048910"
      ]
     },
     "execution_count": 168,
     "metadata": {},
     "output_type": "execute_result"
    }
   ],
   "source": [
    "cluster_avg = customers.groupby('Cluster').mean()\n",
    "population_avg = customers.mean()\n",
    "relative_imp = cluster_avg / population_avg - 1\n",
    "relative_imp"
   ]
  },
  {
   "cell_type": "markdown",
   "id": "1cff0f39",
   "metadata": {},
   "source": [
    "## Conclusion\n",
    "\n",
    "In conclusion, customer segmentation is really necessary for knowing what characteristics that exist on each customer and allows the vendor to more precisely reach a customer or prospect based on their specific needs and wants. \n",
    "\n",
    "Segmentation will allow vendors to: \n",
    "Better identify their most valuable customer segments. Improve their returns on marketing investment by only targeting those likely to be their best customers.\n",
    "\n",
    "By segmenting your customers, you can create highly efficient and effective customer experience strategies that truly connect with your customers. \n",
    "\n",
    "A one-size-fits-all approach to customer-business interaction is no longer appropriate for such a fast-paced and highly customized modern world, so customer segmentation is becoming a must. \n",
    "\n",
    "By understanding your customers and their buying behaviors, you’re better able to offer them what they want and as such leave them with a more positive experience with your company."
   ]
  },
  {
   "cell_type": "code",
   "execution_count": null,
   "id": "dfb833fd",
   "metadata": {},
   "outputs": [],
   "source": []
  }
 ],
 "metadata": {
  "kernelspec": {
   "display_name": "Python 3 (ipykernel)",
   "language": "python",
   "name": "python3"
  },
  "language_info": {
   "codemirror_mode": {
    "name": "ipython",
    "version": 3
   },
   "file_extension": ".py",
   "mimetype": "text/x-python",
   "name": "python",
   "nbconvert_exporter": "python",
   "pygments_lexer": "ipython3",
   "version": "3.9.7"
  }
 },
 "nbformat": 4,
 "nbformat_minor": 5
}
